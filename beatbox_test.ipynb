{
 "cells": [
  {
   "cell_type": "code",
   "execution_count": 10,
   "metadata": {
    "collapsed": false
   },
   "outputs": [],
   "source": [
    "import numpy as np\n",
    "import scipy \n",
    "import scipy.io.wavfile\n",
    "import scipy.signal\n",
    "import os\n",
    "import zipfile"
   ]
  },
  {
   "cell_type": "code",
   "execution_count": 126,
   "metadata": {
    "collapsed": false
   },
   "outputs": [],
   "source": [
    "fs,y = scipy.io.wavfile.read('Python/padpy1516/wav_samples/Snare-Drum-6.wav')\n",
    "y = np.mean(y,axis=1)"
   ]
  },
  {
   "cell_type": "code",
   "execution_count": 122,
   "metadata": {
    "collapsed": false
   },
   "outputs": [
    {
     "data": {
      "text/plain": [
       "44100"
      ]
     },
     "execution_count": 122,
     "metadata": {},
     "output_type": "execute_result"
    }
   ],
   "source": [
    "n, = np.shape(y)\n",
    "fs"
   ]
  },
  {
   "cell_type": "code",
   "execution_count": 63,
   "metadata": {
    "collapsed": false
   },
   "outputs": [
    {
     "data": {
      "text/plain": [
       "44100"
      ]
     },
     "execution_count": 63,
     "metadata": {},
     "output_type": "execute_result"
    }
   ],
   "source": [
    "fs,y2 = scipy.io.wavfile.read('../padpy1516/wav_samples/Closed-Hi-Hat-3.wav')\n",
    "y2 = np.mean(y2,axis=1)\n",
    "fs"
   ]
  },
  {
   "cell_type": "code",
   "execution_count": 124,
   "metadata": {
    "collapsed": false
   },
   "outputs": [],
   "source": [
    "y[:6092] = 0.5*y[:6092]+ 0.5*y2"
   ]
  },
  {
   "cell_type": "code",
   "execution_count": 130,
   "metadata": {
    "collapsed": false
   },
   "outputs": [],
   "source": [
    "scipy.io.wavfile.write('test.wav',\n",
    "                       fs,\n",
    "                       np.int16(y/max(np.abs(y))*32767))\n"
   ]
  },
  {
   "cell_type": "code",
   "execution_count": null,
   "metadata": {
    "collapsed": true
   },
   "outputs": [],
   "source": []
  },
  {
   "cell_type": "code",
   "execution_count": null,
   "metadata": {
    "collapsed": true
   },
   "outputs": [],
   "source": []
  },
  {
   "cell_type": "code",
   "execution_count": null,
   "metadata": {
    "collapsed": true
   },
   "outputs": [],
   "source": []
  },
  {
   "cell_type": "code",
   "execution_count": 142,
   "metadata": {
    "collapsed": true
   },
   "outputs": [],
   "source": []
  },
  {
   "cell_type": "code",
   "execution_count": 148,
   "metadata": {
    "collapsed": false
   },
   "outputs": [
    {
     "data": {
      "text/plain": [
       "array(['track01.txt', 'track02.txt', 'track03.txt'], \n",
       "      dtype='<U11')"
      ]
     },
     "execution_count": 148,
     "metadata": {},
     "output_type": "execute_result"
    }
   ],
   "source": [
    "# read song\n",
    "f = open('song.txt', 'r')\n",
    "l = [\"track\" + line[:2] + \".txt\" for line in f]"
   ]
  },
  {
   "cell_type": "code",
   "execution_count": 2,
   "metadata": {
    "collapsed": false
   },
   "outputs": [
    {
     "data": {
      "text/plain": [
       "array([['01', '02', '03', '04'],\n",
       "       ['--', '--', '03', '--'],\n",
       "       ['--', '02', '03', '--'],\n",
       "       ['--', '--', '03', '--'],\n",
       "       ['01', '02', '03', '04'],\n",
       "       ['--', '--', '03', '--'],\n",
       "       ['--', '02', '03', '--'],\n",
       "       ['--', '--', '03', '--'],\n",
       "       ['01', '02', '03', '04'],\n",
       "       ['--', '--', '03', '--'],\n",
       "       ['--', '02', '03', '04'],\n",
       "       ['--', '--', '03', '--'],\n",
       "       ['01', '02', '03', '04'],\n",
       "       ['--', '--', '03', '04'],\n",
       "       ['--', '02', '03', '04'],\n",
       "       ['--', '--', '03', '04']], \n",
       "      dtype='<U2')"
      ]
     },
     "execution_count": 2,
     "metadata": {},
     "output_type": "execute_result"
    }
   ],
   "source": [
    "# read song\n",
    "f = open('utwor1/track01.txt', 'r')\n",
    "l = np.array([line.split() for line in f])\n",
    "l"
   ]
  },
  {
   "cell_type": "code",
   "execution_count": 3,
   "metadata": {
    "collapsed": false
   },
   "outputs": [],
   "source": [
    "n, m = np.shape(l)"
   ]
  },
  {
   "cell_type": "code",
   "execution_count": 4,
   "metadata": {
    "collapsed": false
   },
   "outputs": [
    {
     "data": {
      "text/plain": [
       "array(['01', '02', '03', '04'], \n",
       "      dtype='<U2')"
      ]
     },
     "execution_count": 4,
     "metadata": {},
     "output_type": "execute_result"
    }
   ],
   "source": [
    "s = np.unique(l)\n",
    "s = s[s != \"--\"]\n",
    "s"
   ]
  },
  {
   "cell_type": "code",
   "execution_count": 6,
   "metadata": {
    "collapsed": false
   },
   "outputs": [
    {
     "name": "stderr",
     "output_type": "stream",
     "text": [
      "c:\\Anaconda3\\lib\\site-packages\\scipy\\io\\wavfile.py:179: WavFileWarning: Chunk (non-data) not understood, skipping it.\n",
      "  WavFileWarning)\n"
     ]
    }
   ],
   "source": [
    "for si in s:\n",
    "    fs,y = scipy.io.wavfile.read(\"utwor1/sample\"+si + \".wav\")\n",
    "    y = np.mean(y,axis=1)"
   ]
  },
  {
   "cell_type": "code",
   "execution_count": 60,
   "metadata": {
    "collapsed": false
   },
   "outputs": [
    {
     "data": {
      "text/plain": [
       "['sample01.wav', 'sample02.wav', 'sample03.wav', 'sample04.wav']"
      ]
     },
     "execution_count": 60,
     "metadata": {},
     "output_type": "execute_result"
    }
   ],
   "source": [
    "import os\n",
    "sample = [f for f in os.listdir(\"utwor1\") if f.endswith(\".wav\")]\n",
    "sample"
   ]
  },
  {
   "cell_type": "code",
   "execution_count": 9,
   "metadata": {
    "collapsed": false
   },
   "outputs": [
    {
     "name": "stderr",
     "output_type": "stream",
     "text": [
      "c:\\Anaconda3\\lib\\site-packages\\scipy\\io\\wavfile.py:179: WavFileWarning: Chunk (non-data) not understood, skipping it.\n",
      "  WavFileWarning)\n"
     ]
    },
    {
     "data": {
      "text/plain": [
       "[array([[ 20,  19],\n",
       "        [ -9, -12],\n",
       "        [-52, -49],\n",
       "        ..., \n",
       "        [ 41,  45],\n",
       "        [ 41,  60],\n",
       "        [-18, -15]], dtype=int16), array([[  3,   7],\n",
       "        [  7,   2],\n",
       "        [  4,   2],\n",
       "        ..., \n",
       "        [ 39, -11],\n",
       "        [-26, -11],\n",
       "        [  8,  14]], dtype=int16), array([[  2,   2],\n",
       "        [  0,   2],\n",
       "        [ -2,  -2],\n",
       "        ..., \n",
       "        [-19, -12],\n",
       "        [-17,   0],\n",
       "        [ -9,   2]], dtype=int16), array([[ 0,  0],\n",
       "        [ 0, -1],\n",
       "        [-1,  0],\n",
       "        ..., \n",
       "        [ 0, -1],\n",
       "        [-1,  1],\n",
       "        [ 1,  0]], dtype=int16)]"
      ]
     },
     "execution_count": 9,
     "metadata": {},
     "output_type": "execute_result"
    }
   ],
   "source": [
    "l = [scipy.io.wavfile.read(\"utwor1/\"+si)[1] for si in sample]\n",
    "l"
   ]
  },
  {
   "cell_type": "code",
   "execution_count": null,
   "metadata": {
    "collapsed": true
   },
   "outputs": [],
   "source": []
  },
  {
   "cell_type": "code",
   "execution_count": null,
   "metadata": {
    "collapsed": true
   },
   "outputs": [],
   "source": []
  },
  {
   "cell_type": "code",
   "execution_count": 61,
   "metadata": {
    "collapsed": false
   },
   "outputs": [
    {
     "name": "stderr",
     "output_type": "stream",
     "text": [
      "c:\\Anaconda3\\lib\\site-packages\\scipy\\io\\wavfile.py:179: WavFileWarning: Chunk (non-data) not understood, skipping it.\n",
      "  WavFileWarning)\n"
     ]
    },
    {
     "data": {
      "text/plain": [
       "dict_values([(array([ 19.5, -10.5, -50.5, ...,  43. ,  50.5, -16.5]), 11297), (array([  5. ,   4.5,   3. , ...,  14. , -18.5,  11. ]), 6313), (array([ -0.5,   1. ,   2. , ...,  29.5,  14.5,   0. ]), 705557), (array([  10. ,   58. ,  149. , ...,   34.5,   27. ,   15. ]), 50406)])"
      ]
     },
     "execution_count": 61,
     "metadata": {},
     "output_type": "execute_result"
    }
   ],
   "source": [
    "# slownik z samplami ich rozmiarem \n",
    "samples_dict = {}\n",
    "for si in sample:\n",
    "    x = scipy.io.wavfile.read(\"utwor1/\"+si)[1]\n",
    "    samples_dict[si[6:8]] = np.mean(x,axis=1), np.shape(x)[0]\n",
    "samples_dict.values()"
   ]
  },
  {
   "cell_type": "code",
   "execution_count": 19,
   "metadata": {
    "collapsed": false
   },
   "outputs": [
    {
     "data": {
      "text/plain": [
       "(array([ 19.5, -10.5, -50.5, ...,  43. ,  50.5, -16.5]), 11297)"
      ]
     },
     "execution_count": 19,
     "metadata": {},
     "output_type": "execute_result"
    }
   ],
   "source": [
    "samples_dict[\"01\"]"
   ]
  },
  {
   "cell_type": "code",
   "execution_count": 54,
   "metadata": {
    "collapsed": false
   },
   "outputs": [
    {
     "data": {
      "text/plain": [
       "dict_values([])"
      ]
     },
     "execution_count": 54,
     "metadata": {},
     "output_type": "execute_result"
    }
   ],
   "source": [
    "samples_dict.values()"
   ]
  },
  {
   "cell_type": "code",
   "execution_count": 50,
   "metadata": {
    "collapsed": false
   },
   "outputs": [
    {
     "data": {
      "text/plain": [
       "array([['01', '02', '03', '04'],\n",
       "       ['--', '--', '03', '--'],\n",
       "       ['--', '02', '03', '--'],\n",
       "       ['--', '--', '03', '--'],\n",
       "       ['--', '02', '03', '04'],\n",
       "       ['--', '--', '03', '--'],\n",
       "       ['--', '02', '03', '--'],\n",
       "       ['--', '--', '03', '--'],\n",
       "       ['--', '02', '03', '04'],\n",
       "       ['--', '--', '03', '--'],\n",
       "       ['--', '02', '03', '04'],\n",
       "       ['--', '--', '03', '--'],\n",
       "       ['--', '02', '03', '04'],\n",
       "       ['--', '--', '03', '04'],\n",
       "       ['--', '02', '03', '04'],\n",
       "       ['--', '--', '03', '04'],\n",
       "       ['--', '--', '03', '--'],\n",
       "       ['--', '02', '03', '--'],\n",
       "       ['--', '--', '03', '--'],\n",
       "       ['--', '02', '03', '04'],\n",
       "       ['--', '--', '03', '--'],\n",
       "       ['--', '02', '03', '--'],\n",
       "       ['--', '--', '03', '--'],\n",
       "       ['--', '02', '03', '04'],\n",
       "       ['--', '--', '03', '--'],\n",
       "       ['--', '02', '03', '04'],\n",
       "       ['--', '--', '03', '--'],\n",
       "       ['--', '02', '03', '04'],\n",
       "       ['--', '--', '03', '04'],\n",
       "       ['--', '02', '03', '04'],\n",
       "       ['--', '--', '03', '04']], \n",
       "      dtype='<U2')"
      ]
     },
     "execution_count": 50,
     "metadata": {},
     "output_type": "execute_result"
    }
   ],
   "source": [
    "# read track\n",
    "f = open('utwor1/track01.txt', 'r')\n",
    "l = np.array([line.split() for line in f])\n",
    "l"
   ]
  },
  {
   "cell_type": "code",
   "execution_count": 58,
   "metadata": {
    "collapsed": false
   },
   "outputs": [
    {
     "name": "stderr",
     "output_type": "stream",
     "text": [
      "c:\\Anaconda3\\lib\\site-packages\\ipykernel\\__main__.py:8: DeprecationWarning: using a non-integer number instead of an integer will result in an error in the future\n"
     ]
    }
   ],
   "source": [
    "T = 20\n",
    "fs = 44100 \n",
    "z = np.zeros(T*fs)\n",
    "ni = np.zeros(4)\n",
    "for i in range(4):\n",
    "    for j in range(len(l)):\n",
    "        if l[j, i] != '--':\n",
    "            z[ni[i]:(ni[i]+samples_dict[l[j,i]][1])] += 0.25 * samples_dict[l[j,i]][0]\n",
    "        ni[i] += fs/2"
   ]
  },
  {
   "cell_type": "code",
   "execution_count": 50,
   "metadata": {
    "collapsed": false
   },
   "outputs": [],
   "source": [
    "scipy.io.wavfile.write('test.wav',\n",
    "                       fs,\n",
    "                       np.int16(z/max(np.abs(z))*32767))\n"
   ]
  },
  {
   "cell_type": "code",
   "execution_count": 106,
   "metadata": {
    "collapsed": false
   },
   "outputs": [
    {
     "data": {
      "text/plain": [
       "dict_values([(array([[ 0,  0],\n",
       "       [ 0, -1],\n",
       "       [-1,  0],\n",
       "       ..., \n",
       "       [ 0, -1],\n",
       "       [-1,  1],\n",
       "       [ 1,  0]], dtype=int16), (15221, 2)), (array([[  2,   2],\n",
       "       [  0,   2],\n",
       "       [ -2,  -2],\n",
       "       ..., \n",
       "       [-19, -12],\n",
       "       [-17,   0],\n",
       "       [ -9,   2]], dtype=int16), (9594, 2)), (array([[  3,   7],\n",
       "       [  7,   2],\n",
       "       [  4,   2],\n",
       "       ..., \n",
       "       [ 39, -11],\n",
       "       [-26, -11],\n",
       "       [  8,  14]], dtype=int16), (6313, 2)), (array([[ 20,  19],\n",
       "       [ -9, -12],\n",
       "       [-52, -49],\n",
       "       ..., \n",
       "       [ 41,  45],\n",
       "       [ 41,  60],\n",
       "       [-18, -15]], dtype=int16), (11297, 2))])"
      ]
     },
     "execution_count": 106,
     "metadata": {},
     "output_type": "execute_result"
    }
   ],
   "source": [
    "samples_dict.values()"
   ]
  },
  {
   "cell_type": "code",
   "execution_count": 103,
   "metadata": {
    "collapsed": false
   },
   "outputs": [
    {
     "data": {
      "text/plain": [
       "array([ 11297.,  12626.,  38376.,  15221.])"
      ]
     },
     "execution_count": 103,
     "metadata": {},
     "output_type": "execute_result"
    }
   ],
   "source": [
    "ni"
   ]
  },
  {
   "cell_type": "code",
   "execution_count": 98,
   "metadata": {
    "collapsed": false
   },
   "outputs": [
    {
     "data": {
      "text/plain": [
       "True"
      ]
     },
     "execution_count": 98,
     "metadata": {},
     "output_type": "execute_result"
    }
   ],
   "source": [
    "l[1, 0] != '01'"
   ]
  },
  {
   "cell_type": "code",
   "execution_count": 140,
   "metadata": {
    "collapsed": false
   },
   "outputs": [
    {
     "data": {
      "text/plain": [
       "True"
      ]
     },
     "execution_count": 140,
     "metadata": {},
     "output_type": "execute_result"
    }
   ],
   "source": [
    "f = \"track01.txt\"\n",
    "f.find(\"track\")>=0"
   ]
  },
  {
   "cell_type": "code",
   "execution_count": 143,
   "metadata": {
    "collapsed": false
   },
   "outputs": [
    {
     "data": {
      "text/plain": [
       "['track01.txt']"
      ]
     },
     "execution_count": 143,
     "metadata": {},
     "output_type": "execute_result"
    }
   ],
   "source": [
    "[f for f in os.listdir(\"utwor1\") if f.find(\"track\")>=0]"
   ]
  },
  {
   "cell_type": "code",
   "execution_count": 1,
   "metadata": {
    "collapsed": false
   },
   "outputs": [
    {
     "data": {
      "text/plain": [
       "'01'"
      ]
     },
     "execution_count": 1,
     "metadata": {},
     "output_type": "execute_result"
    }
   ],
   "source": [
    "t = \"track01.txt\" \n",
    "t[5:7]"
   ]
  },
  {
   "cell_type": "code",
   "execution_count": 7,
   "metadata": {
    "collapsed": false
   },
   "outputs": [
    {
     "data": {
      "text/plain": [
       "dict_keys(['bpm'])"
      ]
     },
     "execution_count": 7,
     "metadata": {},
     "output_type": "execute_result"
    }
   ],
   "source": [
    "s = open('utwor1/defs.txt', 'r').read()\n",
    "defs = eval(s)\n",
    "defs.keys()"
   ]
  },
  {
   "cell_type": "markdown",
   "metadata": {},
   "source": [
    "## zip file"
   ]
  },
  {
   "cell_type": "code",
   "execution_count": 1,
   "metadata": {
    "collapsed": false
   },
   "outputs": [],
   "source": [
    "import zipfile"
   ]
  },
  {
   "cell_type": "code",
   "execution_count": 20,
   "metadata": {
    "collapsed": false
   },
   "outputs": [
    {
     "data": {
      "text/plain": [
       "True"
      ]
     },
     "execution_count": 20,
     "metadata": {},
     "output_type": "execute_result"
    }
   ],
   "source": [
    "zipfile.is_zipfile(\"utwor2.zip\")"
   ]
  },
  {
   "cell_type": "code",
   "execution_count": 12,
   "metadata": {
    "collapsed": false
   },
   "outputs": [],
   "source": [
    "songzip = zipfile.ZipFile('utwor2.zip')"
   ]
  },
  {
   "cell_type": "code",
   "execution_count": 17,
   "metadata": {
    "collapsed": false
   },
   "outputs": [],
   "source": [
    "songzip.extractall(\"temp\")"
   ]
  },
  {
   "cell_type": "code",
   "execution_count": 13,
   "metadata": {
    "collapsed": false
   },
   "outputs": [
    {
     "data": {
      "text/plain": [
       "<zipfile.ZipFile filename='utwor2.zip' mode='r'>"
      ]
     },
     "execution_count": 13,
     "metadata": {},
     "output_type": "execute_result"
    }
   ],
   "source": []
  },
  {
   "cell_type": "markdown",
   "metadata": {},
   "source": [
    "## instrument "
   ]
  },
  {
   "cell_type": "code",
   "execution_count": 114,
   "metadata": {
    "collapsed": false
   },
   "outputs": [],
   "source": [
    "def dzwiek(f, T, a, d):\n",
    "    fs = 44100 # Hz, sampling frequency\n",
    "    t = np.linspace(0, T, T*fs)\n",
    "    y = np.sin(2*np.pi*f*t+0.1)#+0.15*scipy.signal.sawtooth(2*np.pi*f*t)\n",
    "#     y[0:int(T*fs*a)] *= np.linspace(0,1,int(T*fs*a))\n",
    "#     y[-int(T*fs*d):-1] *= np.linspace(1,0,int(T*fs*d)-1)\n",
    "    return y\n",
    "\n",
    "S = pow(2, 1/12)\n",
    "fs = 44100\n",
    "import scipy.io.wavfile\n",
    "y = np.r_[dzwiek(440*S**(-2), 0.5, 0.2, 0.4),\n",
    "          dzwiek(440*S**(-5), 0.5, 0.2, 0.4),\n",
    "          dzwiek(440*S**(-5), 0.5, 0.2, 0.4)]\n",
    "scipy.io.wavfile.write('test2.wav',\n",
    "                       fs,\n",
    "                       np.int16(y/max(np.abs(y))*32767))"
   ]
  },
  {
   "cell_type": "code",
   "execution_count": 28,
   "metadata": {
    "collapsed": false
   },
   "outputs": [
    {
     "ename": "NameError",
     "evalue": "name 'f' is not defined",
     "output_type": "error",
     "traceback": [
      "\u001b[1;31m---------------------------------------------------------------------------\u001b[0m",
      "\u001b[1;31mNameError\u001b[0m                                 Traceback (most recent call last)",
      "\u001b[1;32m<ipython-input-28-dfc89afb075f>\u001b[0m in \u001b[0;36m<module>\u001b[1;34m()\u001b[0m\n\u001b[1;32m----> 1\u001b[1;33m \u001b[0my\u001b[0m \u001b[1;33m=\u001b[0m \u001b[0mnp\u001b[0m\u001b[1;33m.\u001b[0m\u001b[0msin\u001b[0m\u001b[1;33m(\u001b[0m\u001b[1;36m2\u001b[0m\u001b[1;33m*\u001b[0m\u001b[0mnp\u001b[0m\u001b[1;33m.\u001b[0m\u001b[0mpi\u001b[0m\u001b[1;33m*\u001b[0m\u001b[0mf\u001b[0m\u001b[1;33m*\u001b[0m\u001b[0mt\u001b[0m\u001b[1;33m+\u001b[0m\u001b[1;36m0.1\u001b[0m\u001b[1;33m)\u001b[0m\u001b[1;33m\u001b[0m\u001b[0m\n\u001b[0m\u001b[0;32m      2\u001b[0m \u001b[0my\u001b[0m\u001b[1;33m\u001b[0m\u001b[0m\n",
      "\u001b[1;31mNameError\u001b[0m: name 'f' is not defined"
     ]
    }
   ],
   "source": [
    "\n"
   ]
  },
  {
   "cell_type": "code",
   "execution_count": 29,
   "metadata": {
    "collapsed": false
   },
   "outputs": [
    {
     "data": {
      "text/plain": [
       "466.1637615180899"
      ]
     },
     "execution_count": 29,
     "metadata": {},
     "output_type": "execute_result"
    }
   ],
   "source": []
  },
  {
   "cell_type": "code",
   "execution_count": 125,
   "metadata": {
    "collapsed": false
   },
   "outputs": [
    {
     "data": {
      "text/plain": [
       "{'A#': 466.1637615180899,\n",
       " 'A-': 440.0,\n",
       " 'B-': 493.8833012561241,\n",
       " 'C#': 277.182630976872,\n",
       " 'C-': 261.6255653005985,\n",
       " 'D#': 311.1269837220808,\n",
       " 'D-': 293.66476791740746,\n",
       " 'E-': 329.62755691286986,\n",
       " 'F#': 369.99442271163434,\n",
       " 'F-': 349.2282314330038,\n",
       " 'G#': 415.3046975799451,\n",
       " 'G-': 391.99543598174927}"
      ]
     },
     "execution_count": 125,
     "metadata": {},
     "output_type": "execute_result"
    }
   ],
   "source": [
    "S = pow(2, 1/12)\n",
    "fs = 44100\n",
    "m = [\"C-\", \"C#\", \"D-\", \"D#\", \"E-\", \"F-\", \"F#\", \"G-\", \"G#\", \"A-\", \"A#\", \"B-\"]\n",
    "f = [440*S**(i-9) for i in range(12)]\n",
    "inst = {m[i]:f[i] for i in range(len(m))}\n",
    "inst"
   ]
  },
  {
   "cell_type": "code",
   "execution_count": 119,
   "metadata": {
    "collapsed": false
   },
   "outputs": [
    {
     "data": {
      "text/plain": [
       "array(['G-4', 'E-4', 'E-4', 'F-4', 'D-4', 'D-4', 'C-4', 'E-4', 'G-4',\n",
       "       '---', 'G-4', 'E-4', 'E-4', 'F-4', 'D-4', 'D-4', 'C-4', 'E-4', 'C-4'], \n",
       "      dtype='<U3')"
      ]
     },
     "execution_count": 119,
     "metadata": {},
     "output_type": "execute_result"
    }
   ],
   "source": [
    "f = open('utwor1/nutki.txt', 'r')\n",
    "l = np.array([line[0:3] for line in f])\n",
    "l"
   ]
  },
  {
   "cell_type": "code",
   "execution_count": 129,
   "metadata": {
    "collapsed": false
   },
   "outputs": [
    {
     "data": {
      "text/plain": [
       "array([ 0.,  0.,  0., ..., -1., -1., -1.])"
      ]
     },
     "execution_count": 129,
     "metadata": {},
     "output_type": "execute_result"
    }
   ],
   "source": [
    "fs = 44100 # Hz, sampling frequency\n",
    "T = .5\n",
    "t = np.linspace(0, T, T*fs)\n",
    "y = []\n",
    "for i in range(len(l)):\n",
    "    if l[i] == \"---\":\n",
    "        y = np.zeros(int(fs*T))\n",
    "    else:\n",
    "        y = np.r_[y, np.sign(np.sin(2*np.pi*inst[l[i][0:2]]*t))]\n",
    "y"
   ]
  },
  {
   "cell_type": "code",
   "execution_count": 125,
   "metadata": {
    "collapsed": false
   },
   "outputs": [],
   "source": [
    "scipy.io.wavfile.write('test3.wav',\n",
    "                       fs,\n",
    "                       np.int16(y/max(np.abs(y))*32767))"
   ]
  },
  {
   "cell_type": "code",
   "execution_count": 107,
   "metadata": {
    "collapsed": false
   },
   "outputs": [
    {
     "data": {
      "text/plain": [
       "array(['G-4', 'E-4', 'E-4', 'F-4', 'D-4', 'D-4', 'C-4', 'E-4', 'G-4',\n",
       "       'G-4', 'E-4', 'E-4', 'F-4', 'D-4', 'D-4', 'C-4', 'E-4', 'C-4'], \n",
       "      dtype='<U3')"
      ]
     },
     "execution_count": 107,
     "metadata": {},
     "output_type": "execute_result"
    }
   ],
   "source": []
  },
  {
   "cell_type": "code",
   "execution_count": 49,
   "metadata": {
    "collapsed": false
   },
   "outputs": [
    {
     "data": {
      "text/plain": [
       "120"
      ]
     },
     "execution_count": 49,
     "metadata": {},
     "output_type": "execute_result"
    }
   ],
   "source": [
    "s = open('utwor1/defs.txt', 'r').read()\n",
    "defs = eval(s)\n",
    "defs[\"bpm\"]"
   ]
  },
  {
   "cell_type": "markdown",
   "metadata": {},
   "source": [
    "### create_song"
   ]
  },
  {
   "cell_type": "code",
   "execution_count": 239,
   "metadata": {
    "collapsed": false
   },
   "outputs": [],
   "source": [
    "def create_song(song):\n",
    "    \n",
    "    if os.path.exists(song):\n",
    "        song_path = song + \"/\"\n",
    "    elif zipfile.is_zipfile(song + \".zip\"):\n",
    "        song_zip = zipfile.ZipFile(song + '.zip')\n",
    "        song_zip.extractall(\"temp\")\n",
    "        song_path = \"temp/\" + song + \"/\"\n",
    "    else:\n",
    "        return \"There's no such song definition\"\n",
    "    defs = open(song_path + '/defs.txt', 'r').read()\n",
    "    defs = eval(defs)\n",
    "    \n",
    "    sample = [f for f in os.listdir(song_path) if f.endswith(\".wav\")]\n",
    "    samples_dict = {}\n",
    "    for si in sample:\n",
    "        x = scipy.io.wavfile.read(song_path+si)[1]\n",
    "        x = np.mean(x,axis=1)\n",
    "        samples_dict[si[6:8]] = x/max(np.abs(x)), np.shape(x)[0]\n",
    "    \n",
    "\n",
    "    \n",
    "    tracks = [f for f in os.listdir(song_path) if f.find(\"track\")>=0]\n",
    "    tracks_dict = {}\n",
    "    for t in tracks:\n",
    "        x = create_track(song_path + t, defs, samples_dict) \n",
    "        tracks_dict[t[5:7]] = x \n",
    "\n",
    "\n",
    "    f_song = open(song_path + '/song.txt', 'r')\n",
    "    t = np.array([line for line in f_song])\n",
    "    y = np.array([])\n",
    "    for tr in t:\n",
    "        y = np.r_[y, tracks_dict[tr[0:2]]]\n",
    "        \n",
    "    scipy.io.wavfile.write(song + '.wav',\n",
    "                       44100,\n",
    "                       np.int16(y/max(np.abs(y))*32767))"
   ]
  },
  {
   "cell_type": "code",
   "execution_count": 117,
   "metadata": {
    "collapsed": false
   },
   "outputs": [
    {
     "name": "stdout",
     "output_type": "stream",
     "text": [
      "15.5\n",
      "15.5\n",
      "15.5\n",
      "01\n",
      "\n",
      "01\n",
      "\n",
      "01\n",
      "\n",
      "02\n",
      "\n",
      "01\n",
      "\n",
      "01\n",
      "\n",
      "03\n",
      "\n"
     ]
    },
    {
     "name": "stderr",
     "output_type": "stream",
     "text": [
      "c:\\Anaconda3\\lib\\site-packages\\scipy\\io\\wavfile.py:179: WavFileWarning: Chunk (non-data) not understood, skipping it.\n",
      "  WavFileWarning)\n",
      "c:\\Anaconda3\\lib\\site-packages\\ipykernel\\__main__.py:10: DeprecationWarning: using a non-integer number instead of an integer will result in an error in the future\n",
      "c:\\Anaconda3\\lib\\site-packages\\ipykernel\\__main__.py:19: DeprecationWarning: using a non-integer number instead of an integer will result in an error in the future\n"
     ]
    }
   ],
   "source": [
    "create_song(\"utwor1\")\n",
    "# create_song(\"utwor2\")"
   ]
  },
  {
   "cell_type": "markdown",
   "metadata": {},
   "source": [
    "### create_track"
   ]
  },
  {
   "cell_type": "code",
   "execution_count": 233,
   "metadata": {
    "collapsed": false
   },
   "outputs": [],
   "source": [
    "def create_track(track, defs, samples_dict):\n",
    "    \"\"\"\n",
    "    \n",
    "    \"\"\"\n",
    "    f = open(track, 'r')\n",
    "    track_matrix = np.array([line.split() for line in f])\n",
    "    T = len(track_matrix)*60/defs['bpm']\n",
    "    fs = 44100 \n",
    "    m = T*fs\n",
    "    z = np.zeros(m)\n",
    "    t1 = 60/defs['bpm']\n",
    "    t = np.linspace(0, t1, t1*fs)\n",
    "    n = 0\n",
    "    for i in range(len(track_matrix)):\n",
    "        for j in range(len(track_matrix[i])):\n",
    "            temp = track_matrix[i, j]\n",
    "            if len(temp) == 2:\n",
    "                if temp != '--':\n",
    "                    n_s = samples_dict[temp][1]\n",
    "                    if (n + n_s > len(z)):\n",
    "                        n_s = m - n\n",
    "                    z[n:(n + n_s)] += 0.5 * samples_dict[temp][0][:n_s]\n",
    "            elif len(temp) == 3:\n",
    "                n_s = fs*t1\n",
    "                if  temp != \"---\":\n",
    "                    z[n:(n + n_s)] += np.sin(2*np.pi*inst[temp[0:2]]*2**(int(temp[2])-4)*t)\n",
    "        n += fs*60/defs['bpm']\n",
    "    print(z)\n",
    "    return z"
   ]
  },
  {
   "cell_type": "code",
   "execution_count": 229,
   "metadata": {
    "collapsed": false
   },
   "outputs": [
    {
     "ename": "TypeError",
     "evalue": "create_track() missing 1 required positional argument: 'samples_dict'",
     "output_type": "error",
     "traceback": [
      "\u001b[1;31m---------------------------------------------------------------------------\u001b[0m",
      "\u001b[1;31mTypeError\u001b[0m                                 Traceback (most recent call last)",
      "\u001b[1;32m<ipython-input-229-90653f7cba7f>\u001b[0m in \u001b[0;36m<module>\u001b[1;34m()\u001b[0m\n\u001b[1;32m----> 1\u001b[1;33m \u001b[0mcreate_track\u001b[0m\u001b[1;33m(\u001b[0m\u001b[1;34m\"utwor1/track01.txt\"\u001b[0m\u001b[1;33m,\u001b[0m \u001b[0mdefs\u001b[0m\u001b[1;33m)\u001b[0m\u001b[1;33m\u001b[0m\u001b[0m\n\u001b[0m",
      "\u001b[1;31mTypeError\u001b[0m: create_track() missing 1 required positional argument: 'samples_dict'"
     ]
    }
   ],
   "source": [
    "create_track(\"utwor1/track01.txt\", defs)"
   ]
  },
  {
   "cell_type": "code",
   "execution_count": 240,
   "metadata": {
    "collapsed": false
   },
   "outputs": [
    {
     "name": "stderr",
     "output_type": "stream",
     "text": [
      "c:\\Anaconda3\\lib\\site-packages\\scipy\\io\\wavfile.py:179: WavFileWarning: Chunk (non-data) not understood, skipping it.\n",
      "  WavFileWarning)\n",
      "c:\\Anaconda3\\lib\\site-packages\\ipykernel\\__main__.py:10: DeprecationWarning: using a non-integer number instead of an integer will result in an error in the future\n"
     ]
    },
    {
     "name": "stdout",
     "output_type": "stream",
     "text": [
      "[ 0.          0.04973775  0.09935239 ...,  0.99440539  0.99938099\n",
      "  0.99941206]\n",
      "[  4.20195229e-05   3.88148139e-05  -2.92367786e-04 ...,   9.73717943e-01\n",
      "   9.77658334e-01   9.77720171e-01]\n"
     ]
    },
    {
     "name": "stderr",
     "output_type": "stream",
     "text": [
      "c:\\Anaconda3\\lib\\site-packages\\ipykernel\\__main__.py:26: DeprecationWarning: using a non-integer number instead of an integer will result in an error in the future\n",
      "c:\\Anaconda3\\lib\\site-packages\\ipykernel\\__main__.py:22: DeprecationWarning: using a non-integer number instead of an integer will result in an error in the future\n"
     ]
    }
   ],
   "source": [
    "create_song(\"Szla dzieweczka\")"
   ]
  }
 ],
 "metadata": {
  "kernelspec": {
   "display_name": "Python 3",
   "language": "python",
   "name": "python3"
  },
  "language_info": {
   "codemirror_mode": {
    "name": "ipython",
    "version": 3
   },
   "file_extension": ".py",
   "mimetype": "text/x-python",
   "name": "python",
   "nbconvert_exporter": "python",
   "pygments_lexer": "ipython3",
   "version": "3.5.0"
  }
 },
 "nbformat": 4,
 "nbformat_minor": 0
}
