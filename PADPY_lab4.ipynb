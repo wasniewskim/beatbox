{
 "cells": [
  {
   "cell_type": "code",
   "execution_count": 2,
   "metadata": {
    "collapsed": true
   },
   "outputs": [],
   "source": [
    "import numpy as np"
   ]
  },
  {
   "cell_type": "code",
   "execution_count": 5,
   "metadata": {
    "collapsed": true
   },
   "outputs": [],
   "source": [
    "t = np.linspace(0,5, 44100)"
   ]
  },
  {
   "cell_type": "code",
   "execution_count": 14,
   "metadata": {
    "collapsed": true
   },
   "outputs": [],
   "source": [
    "x = np.sin(2*np.pi*440*t)\n",
    "fs = 44100"
   ]
  },
  {
   "cell_type": "code",
   "execution_count": 36,
   "metadata": {
    "collapsed": false
   },
   "outputs": [
    {
     "data": {
      "image/png": "[encoded data removed]",
      "text/plain": [
       "<matplotlib.figure.Figure at 0x7faf1cfdef28>"
      ]
     },
     "metadata": {},
     "output_type": "display_data"
    }
   ],
   "source": [
    "import matplotlib.pylab as plt\n",
    "%matplotlib inline\n",
    "plt.plot(t[0:100], x[0:100])\n",
    "plt.show()"
   ]
  },
  {
   "cell_type": "code",
   "execution_count": 27,
   "metadata": {
    "collapsed": false
   },
   "outputs": [],
   "source": [
    "import scipy.io.wavfile\n",
    "scipy.io.wavfile.write('test.wav',\n",
    "                    fs, \n",
    "                    np.int16(x/max(np.abs(x))*32767))"
   ]
  },
  {
   "cell_type": "code",
   "execution_count": 40,
   "metadata": {
    "collapsed": false
   },
   "outputs": [
    {
     "data": {
      "text/plain": [
       "[\"Playing WAVE 'test.wav' : Signed 16 bit Little Endian, Rate 44100 Hz, Mono\"]"
      ]
     },
     "execution_count": 40,
     "metadata": {},
     "output_type": "execute_result"
    }
   ],
   "source": [
    "!!aplay test.wav"
   ]
  },
  {
   "cell_type": "code",
   "execution_count": 37,
   "metadata": {
    "collapsed": true
   },
   "outputs": [],
   "source": [
    "x = np.sin(2*np.pi*220*t)"
   ]
  },
  {
   "cell_type": "code",
   "execution_count": 38,
   "metadata": {
    "collapsed": true
   },
   "outputs": [],
   "source": [
    "import scipy.io.wavfile\n",
    "scipy.io.wavfile.write('test2.wav',\n",
    "                    fs, \n",
    "                    np.int16(x/max(np.abs(x))*32767))"
   ]
  },
  {
   "cell_type": "code",
   "execution_count": 41,
   "metadata": {
    "collapsed": false
   },
   "outputs": [
    {
     "data": {
      "text/plain": [
       "[\"Playing WAVE 'test2.wav' : Signed 16 bit Little Endian, Rate 44100 Hz, Mono\"]"
      ]
     },
     "execution_count": 41,
     "metadata": {},
     "output_type": "execute_result"
    }
   ],
   "source": [
    "!!aplay test2.wav"
   ]
  },
  {
   "cell_type": "code",
   "execution_count": 45,
   "metadata": {
    "collapsed": false
   },
   "outputs": [],
   "source": [
    "t = np.linspace(0,1, 44100)\n"
   ]
  },
  {
   "cell_type": "code",
   "execution_count": 59,
   "metadata": {
    "collapsed": false
   },
   "outputs": [],
   "source": [
    "x1 =  np.sin(2*np.pi*440*t)\n",
    "x2 =  np.sin(2*np.pi*440*t* 1.0595**3)\n",
    "x3 =  np.sin(2*np.pi*440*t* 1.0595**7)\n",
    "x = np.r_[x1, x2, x3]\n"
   ]
  },
  {
   "cell_type": "code",
   "execution_count": 70,
   "metadata": {
    "collapsed": false
   },
   "outputs": [
    {
     "data": {
      "text/plain": [
       "[\"Playing WAVE 'test3.wav' : Signed 16 bit Little Endian, Rate 132300 Hz, Mono\"]"
      ]
     },
     "execution_count": 70,
     "metadata": {},
     "output_type": "execute_result"
    }
   ],
   "source": [
    "scipy.io.wavfile.write('test3.wav',\n",
    "                    fs*3, \n",
    "                    np.int16(x/max(np.abs(x))*32767))\n",
    "!!aplay test3.wav"
   ]
  },
  {
   "cell_type": "code",
   "execution_count": 69,
   "metadata": {
    "collapsed": false
   },
   "outputs": [
    {
     "data": {
      "text/plain": [
       "[\"Playing WAVE 'test4.wav' : Signed 16 bit Little Endian, Rate 132300 Hz, Mono\"]"
      ]
     },
     "execution_count": 69,
     "metadata": {},
     "output_type": "execute_result"
    }
   ],
   "source": [
    "y =x1 + x2 +x3\n",
    "scipy.io.wavfile.write('test4.wav',\n",
    "                    fs*3, \n",
    "                    np.int16(y/max(np.abs(y))*32767))\n",
    "!!aplay test4.wav"
   ]
  },
  {
   "cell_type": "code",
   "execution_count": 71,
   "metadata": {
    "collapsed": false
   },
   "outputs": [
    {
     "data": {
      "text/plain": [
       "[\"Playing WAVE 'test5.wav' : Signed 16 bit Little Endian, Rate 132300 Hz, Mono\"]"
      ]
     },
     "execution_count": 71,
     "metadata": {},
     "output_type": "execute_result"
    }
   ],
   "source": [
    "y = np.sign(x)\n",
    "scipy.io.wavfile.write('test5.wav',\n",
    "                    fs*3, \n",
    "                    np.int16(y/max(np.abs(y))*32767))\n",
    "!!aplay test5.wav"
   ]
  },
  {
   "cell_type": "code",
   "execution_count": 72,
   "metadata": {
    "collapsed": false
   },
   "outputs": [
    {
     "data": {
      "text/plain": [
       "[\"Playing WAVE 'test6.wav' : Signed 16 bit Little Endian, Rate 132300 Hz, Mono\"]"
      ]
     },
     "execution_count": 72,
     "metadata": {},
     "output_type": "execute_result"
    }
   ],
   "source": [
    "y = np.r_[x, y]\n",
    "scipy.io.wavfile.write('test6.wav',\n",
    "                    fs*3, \n",
    "                    np.int16(y/max(np.abs(y))*32767))\n",
    "!!aplay test6.wav"
   ]
  },
  {
   "cell_type": "code",
   "execution_count": 78,
   "metadata": {
    "collapsed": false
   },
   "outputs": [],
   "source": [
    "from scipy import signal\n",
    "z = scipy.signal.sawtooth(2*np.pi*440*t)"
   ]
  },
  {
   "cell_type": "code",
   "execution_count": 84,
   "metadata": {
    "collapsed": false
   },
   "outputs": [
    {
     "data": {
      "text/plain": [
       "[\"Playing WAVE 'test7.wav' : Signed 16 bit Little Endian, Rate 44100 Hz, Mono\"]"
      ]
     },
     "execution_count": 84,
     "metadata": {},
     "output_type": "execute_result"
    }
   ],
   "source": [
    "scipy.io.wavfile.write('test7.wav',\n",
    "                    fs, \n",
    "                    np.int16(z/max(np.abs(z))*32767))\n",
    "!!aplay test7.wav"
   ]
  },
  {
   "cell_type": "code",
   "execution_count": 159,
   "metadata": {
    "collapsed": false
   },
   "outputs": [],
   "source": [
    "def dzwiek(f, t, a, d):\n",
    "    \"\"\"\n",
    "    \"\"\"\n",
    "    T = np.linspace(0,t, 44100)\n",
    "    x =  np.sin(2*np.pi*440*T)\n",
    "    # x = np.sign(x)\n",
    "    n = np.floor(len(x)*a)\n",
    "    l = np.linspace(0,1, n)\n",
    "    x[:n] = x[:n]*l\n",
    "    m = np.floor(len(x)*d)\n",
    "    l2 = np.linspace(1,0, m)\n",
    "    x[(len(x)-m):] = x[(len(x)-m):]*l2\n",
    "    return x"
   ]
  },
  {
   "cell_type": "code",
   "execution_count": 166,
   "metadata": {
    "collapsed": false
   },
   "outputs": [
    {
     "data": {
      "text/plain": [
       "[\"Playing WAVE 'test8.wav' : Signed 16 bit Little Endian, Rate 44100 Hz, Mono\"]"
      ]
     },
     "execution_count": 166,
     "metadata": {},
     "output_type": "execute_result"
    }
   ],
   "source": [
    "z = dzwiek(440, 8, 0.3, 0.3)\n",
    "scipy.io.wavfile.write('test8.wav',\n",
    "                fs, \n",
    "                np.int16(z/max(np.abs(z))*32767))\n",
    "!!aplay test8.wav\n"
   ]
  },
  {
   "cell_type": "code",
   "execution_count": 123,
   "metadata": {
    "collapsed": false
   },
   "outputs": [
    {
     "data": {
      "image/png": "[encoded data removed]",
      "text/plain": [
       "<matplotlib.figure.Figure at 0x7faee9271908>"
      ]
     },
     "metadata": {},
     "output_type": "display_data"
    }
   ],
   "source": [
    "t =np.linspace(0,3, 44100)\n",
    "plt.plot(t[1:1000] ,z[1:1000])\n",
    "plt.show()\n"
   ]
  },
  {
   "cell_type": "code",
   "execution_count": 168,
   "metadata": {
    "collapsed": false
   },
   "outputs": [
    {
     "data": {
      "image/png": "[encoded data removed]",
      "text/plain": [
       "<matplotlib.figure.Figure at 0x7faef539cfd0>"
      ]
     },
     "metadata": {},
     "output_type": "display_data"
    }
   ],
   "source": [
    "t =np.linspace(0,8, 44100)\n",
    "plt.plot(t ,z)\n",
    "plt.show()"
   ]
  },
  {
   "cell_type": "code",
   "execution_count": 3,
   "metadata": {
    "collapsed": false
   },
   "outputs": [],
   "source": [
    "f = 440\n",
    "T = 0.5\n",
    "fs = 44100\n",
    "t = np.linspace(0, T, T*fs)\n",
    "#G\n",
    "f1 = 784\n",
    "y1 = np.sin(2*np.pi*f1*t)\n",
    "\n",
    "#E,E\n",
    "f2 = f1*(1.0545454545454545)**(-3)\n",
    "y2 = np.sin(2*np.pi*f2*t)\n",
    "\n",
    "#F\n",
    "f3 = f1*(1.0545454545454545)**(-2)\n",
    "y3 = np.sin(2*np.pi*f3*t)\n",
    "\n",
    "#D,D\n",
    "f4 = f1*(1.0545454545454545)**(-5)\n",
    "y4 = np.sin(2*np.pi*f4*t)\n",
    "\n",
    "#C\n",
    "f5 = f1*(1.0545454545454545)**(-7)\n",
    "y5 = np.sin(2*np.pi*f3*t)\n",
    "\n",
    "#E\n",
    "f6 = f1*(1.0545454545454545)**(-3)\n",
    "y6 = np.sin(2*np.pi*f6*t)\n",
    "\n",
    "#G\n",
    "y7 = np.sin(2*np.pi*f1*t)\n",
    "\n",
    "#pauza:\n",
    "f0 = 0\n",
    "T0 = 0.05\n",
    "t0 = np.linspace(f0, T0, T0*fs)\n",
    "p = np.sin(2*np.pi*f0*t0)\n",
    "\n",
    "\n",
    "y = np.r_[y1, y2, y2, p,  y3, y4, y4, p, y5, y2, y1]\n",
    "\n",
    "\n",
    "import scipy.io.wavfile\n",
    "scipy.io.wavfile.write('test8.wav', fs, np.int16(y/max(np.abs(y))*32767)) \n",
    "# !!aplay test8.wav"
   ]
  },
  {
   "cell_type": "code",
   "execution_count": 172,
   "metadata": {
    "collapsed": false
   },
   "outputs": [
    {
     "data": {
      "text/plain": [
       "[\"Playing WAVE 'test.wav' : Signed 16 bit Little Endian, Rate 44100 Hz, Mono\"]"
      ]
     },
     "execution_count": 172,
     "metadata": {},
     "output_type": "execute_result"
    }
   ],
   "source": [
    "z = dzwiek(440, 1, 0, 0)\n",
    "scipy.io.wavfile.write('test.wav',\n",
    "                    fs, \n",
    "                    np.int16(z/max(np.abs(z))*32767))\n",
    "!!aplay test.wav"
   ]
  },
  {
   "cell_type": "code",
   "execution_count": 184,
   "metadata": {
    "collapsed": false
   },
   "outputs": [
    {
     "name": "stderr",
     "output_type": "stream",
     "text": [
      "/opt/anaconda/lib/python3.4/site-packages/numpy/core/numeric.py:462: ComplexWarning: Casting complex values to real discards the imaginary part\n",
      "  return array(a, dtype, copy=False, order=order)\n"
     ]
    },
    {
     "data": {
      "image/png": "[encoded data removed]",
      "text/plain": [
       "<matplotlib.figure.Figure at 0x7faee8eba3c8>"
      ]
     },
     "metadata": {},
     "output_type": "display_data"
    }
   ],
   "source": [
    "y = dzwiek(440, 1, 0, 0)\n",
    "\n",
    "import scipy.fftpack\n",
    "yf = scipy.fftpack.fft(y)\n",
    "n = y.size\n",
    "xf = np.linspace(0, 44100/2, n/2)\n",
    "plt.plot(xf, 2*(yf[1:int(n/2)+1])/n)\n",
    "plt.show()"
   ]
  },
  {
   "cell_type": "code",
   "execution_count": 185,
   "metadata": {
    "collapsed": false
   },
   "outputs": [
    {
     "data": {
      "text/plain": [
       "[\"Playing raw data 'Electronic-Kick-1.wav' : Unsigned 8 bit, Rate 8000 Hz, Mono\"]"
      ]
     },
     "execution_count": 185,
     "metadata": {},
     "output_type": "execute_result"
    }
   ],
   "source": [
    "!!aplay Electronic-Kick-1.wav"
   ]
  },
  {
   "cell_type": "code",
   "execution_count": 206,
   "metadata": {
    "collapsed": false
   },
   "outputs": [
    {
     "ename": "ValueError",
     "evalue": "Not a WAV file.",
     "output_type": "error",
     "traceback": [
      "\u001b[1;31m---------------------------------------------------------------------------\u001b[0m",
      "\u001b[1;31mValueError\u001b[0m                                Traceback (most recent call last)",
      "\u001b[1;32m<ipython-input-206-9ce9eb22b99b>\u001b[0m in \u001b[0;36m<module>\u001b[1;34m()\u001b[0m\n\u001b[1;32m----> 1\u001b[1;33m \u001b[0mfs\u001b[0m\u001b[1;33m,\u001b[0m\u001b[0my\u001b[0m \u001b[1;33m=\u001b[0m \u001b[0mscipy\u001b[0m\u001b[1;33m.\u001b[0m\u001b[0mio\u001b[0m\u001b[1;33m.\u001b[0m\u001b[0mwavfile\u001b[0m\u001b[1;33m.\u001b[0m\u001b[0mread\u001b[0m\u001b[1;33m(\u001b[0m\u001b[1;34m'Electronic-Kick-1.wav'\u001b[0m\u001b[1;33m)\u001b[0m\u001b[1;33m\u001b[0m\u001b[0m\n\u001b[0m\u001b[0;32m      2\u001b[0m \u001b[0mprint\u001b[0m\u001b[1;33m(\u001b[0m\u001b[0mfs\u001b[0m\u001b[1;33m)\u001b[0m\u001b[1;33m\u001b[0m\u001b[0m\n\u001b[0;32m      3\u001b[0m \u001b[0my\u001b[0m \u001b[1;33m=\u001b[0m \u001b[0mnp\u001b[0m\u001b[1;33m.\u001b[0m\u001b[0mmean\u001b[0m\u001b[1;33m(\u001b[0m\u001b[0my\u001b[0m\u001b[1;33m,\u001b[0m \u001b[0maxis\u001b[0m\u001b[1;33m=\u001b[0m\u001b[1;36m1\u001b[0m\u001b[1;33m)\u001b[0m\u001b[1;33m\u001b[0m\u001b[0m\n\u001b[0;32m      4\u001b[0m \u001b[0my\u001b[0m \u001b[1;33m/=\u001b[0m \u001b[1;36m32767\u001b[0m\u001b[1;33m\u001b[0m\u001b[0m\n",
      "\u001b[1;32m/opt/anaconda/lib/python3.4/site-packages/scipy/io/wavfile.py\u001b[0m in \u001b[0;36mread\u001b[1;34m(filename, mmap)\u001b[0m\n\u001b[0;32m    152\u001b[0m \u001b[1;33m\u001b[0m\u001b[0m\n\u001b[0;32m    153\u001b[0m     \u001b[1;32mtry\u001b[0m\u001b[1;33m:\u001b[0m\u001b[1;33m\u001b[0m\u001b[0m\n\u001b[1;32m--> 154\u001b[1;33m         \u001b[0mfsize\u001b[0m \u001b[1;33m=\u001b[0m \u001b[0m_read_riff_chunk\u001b[0m\u001b[1;33m(\u001b[0m\u001b[0mfid\u001b[0m\u001b[1;33m)\u001b[0m\u001b[1;33m\u001b[0m\u001b[0m\n\u001b[0m\u001b[0;32m    155\u001b[0m         \u001b[0mnoc\u001b[0m \u001b[1;33m=\u001b[0m \u001b[1;36m1\u001b[0m\u001b[1;33m\u001b[0m\u001b[0m\n\u001b[0;32m    156\u001b[0m         \u001b[0mbits\u001b[0m \u001b[1;33m=\u001b[0m \u001b[1;36m8\u001b[0m\u001b[1;33m\u001b[0m\u001b[0m\n",
      "\u001b[1;32m/opt/anaconda/lib/python3.4/site-packages/scipy/io/wavfile.py\u001b[0m in \u001b[0;36m_read_riff_chunk\u001b[1;34m(fid)\u001b[0m\n\u001b[0;32m     98\u001b[0m         \u001b[0m_big_endian\u001b[0m \u001b[1;33m=\u001b[0m \u001b[1;32mTrue\u001b[0m\u001b[1;33m\u001b[0m\u001b[0m\n\u001b[0;32m     99\u001b[0m     \u001b[1;32melif\u001b[0m \u001b[0mstr1\u001b[0m \u001b[1;33m!=\u001b[0m \u001b[1;34mb'RIFF'\u001b[0m\u001b[1;33m:\u001b[0m\u001b[1;33m\u001b[0m\u001b[0m\n\u001b[1;32m--> 100\u001b[1;33m         \u001b[1;32mraise\u001b[0m \u001b[0mValueError\u001b[0m\u001b[1;33m(\u001b[0m\u001b[1;34m\"Not a WAV file.\"\u001b[0m\u001b[1;33m)\u001b[0m\u001b[1;33m\u001b[0m\u001b[0m\n\u001b[0m\u001b[0;32m    101\u001b[0m     \u001b[1;32mif\u001b[0m \u001b[0m_big_endian\u001b[0m\u001b[1;33m:\u001b[0m\u001b[1;33m\u001b[0m\u001b[0m\n\u001b[0;32m    102\u001b[0m         \u001b[0mfmt\u001b[0m \u001b[1;33m=\u001b[0m \u001b[1;34m'>I'\u001b[0m\u001b[1;33m\u001b[0m\u001b[0m\n",
      "\u001b[1;31mValueError\u001b[0m: Not a WAV file."
     ]
    }
   ],
   "source": [
    "fs,y = scipy.io.wavfile.read('Electronic-Kick-1.wav')\n",
    "print(fs)\n",
    "y = np.mean(y, axis=1)\n",
    "y /= 32767"
   ]
  },
  {
   "cell_type": "code",
   "execution_count": 243,
   "metadata": {
    "collapsed": false,
    "scrolled": true
   },
   "outputs": [
    {
     "data": {
      "text/plain": [
       "['test11.wav: No such file or directory']"
      ]
     },
     "execution_count": 243,
     "metadata": {},
     "output_type": "execute_result"
    }
   ],
   "source": [
    "fs,y = scipy.io.wavfile.read('Snare-Drum-1 (1).wav')\n",
    "fs2,y2 = scipy.io.wavfile.read('Snare-Drum-4 (1).wav')\n",
    "\n",
    "y = np.mean(y, axis = 1)\n",
    "y2 = np.mean(y2, axis = 1)\n",
    "n1 =  len(y)\n",
    "n2 = len(y2)\n",
    "pp = np.zeros((n1 + n2)*3)\n",
    "pp[:n1] = y\n",
    "pp[n1:n1+n2] = y2\n",
    "pp[n1+n2:n1+n2+n1] = y\n",
    "pp[2*(n1+n2):2*(n1+n2)+n2] = y2\n",
    "\n",
    "scipy.io.wavfile.write('tes11.wav',\n",
    "                    fs, \n",
    "                    np.int16(pp/max(np.abs(pp))*32767))\n",
    "!!aplay test11.wav"
   ]
  },
  {
   "cell_type": "code",
   "execution_count": 256,
   "metadata": {
    "collapsed": false
   },
   "outputs": [
    {
     "data": {
      "text/plain": [
       "(1023, 806, 4)"
      ]
     },
     "execution_count": 256,
     "metadata": {},
     "output_type": "execute_result"
    }
   ],
   "source": [
    "import scipy.ndimage\n",
    "y = scipy.ndimage.imread('Legia_Warszawa.png')\n",
    "y.shape"
   ]
  },
  {
   "cell_type": "code",
   "execution_count": 257,
   "metadata": {
    "collapsed": true
   },
   "outputs": [],
   "source": [
    "y /= 255"
   ]
  },
  {
   "cell_type": "code",
   "execution_count": 258,
   "metadata": {
    "collapsed": false
   },
   "outputs": [],
   "source": [
    "y = np.mean(y, axis= 2) \n"
   ]
  },
  {
   "cell_type": "code",
   "execution_count": 259,
   "metadata": {
    "collapsed": false
   },
   "outputs": [
    {
     "data": {
      "text/plain": [
       "(1023, 806)"
      ]
     },
     "execution_count": 259,
     "metadata": {},
     "output_type": "execute_result"
    }
   ],
   "source": [
    "y.shape"
   ]
  },
  {
   "cell_type": "code",
   "execution_count": 262,
   "metadata": {
    "collapsed": false
   },
   "outputs": [
    {
     "data": {
      "text/plain": [
       "<matplotlib.image.AxesImage at 0x7faee8f48588>"
      ]
     },
     "execution_count": 262,
     "metadata": {},
     "output_type": "execute_result"
    },
    {
     "data": {
      "image/png": "[encoded data removed]",
      "text/plain": [
       "<matplotlib.figure.Figure at 0x7faee8f6d2b0>"
      ]
     },
     "metadata": {},
     "output_type": "display_data"
    }
   ],
   "source": [
    "plt.imshow(y, cmap = plt.cm.gray)"
   ]
  },
  {
   "cell_type": "code",
   "execution_count": 270,
   "metadata": {
    "collapsed": false
   },
   "outputs": [
    {
     "name": "stdout",
     "output_type": "stream",
     "text": [
      "[[-1 -1 -1]\n",
      " [-1  8 -1]\n",
      " [-1 -1 -1]]\n"
     ]
    },
    {
     "data": {
      "text/plain": [
       "<function matplotlib.pyplot.show>"
      ]
     },
     "execution_count": 270,
     "metadata": {},
     "output_type": "execute_result"
    },
    {
     "data": {
      "image/png": "[encoded data removed]",
      "text/plain": [
       "<matplotlib.figure.Figure at 0x7faee92057f0>"
      ]
     },
     "metadata": {},
     "output_type": "display_data"
    }
   ],
   "source": [
    "a = np.array([\n",
    "        [-1, -1, -1],\n",
    "        [-1, 8, -1],\n",
    "        [-1, -1, -1]\n",
    "    ])\n",
    "print(a)\n",
    "import scipy.signal\n",
    "y2 = scipy.signal.convolve2d(y, a)\n",
    "y2[y2 > 0.5] = 1\n",
    "y2[y2 < 0.5] = 0\n",
    "plt.imshow(y2, cmap = plt.cm.gray)\n",
    "plt.axis('off')\n",
    "plt.show"
   ]
  },
  {
   "cell_type": "code",
   "execution_count": 271,
   "metadata": {
    "collapsed": false
   },
   "outputs": [
    {
     "name": "stdout",
     "output_type": "stream",
     "text": [
      "[[ 0.11111111  0.11111111  0.11111111]\n",
      " [ 0.11111111  0.11111111  0.11111111]\n",
      " [ 0.11111111  0.11111111  0.11111111]]\n"
     ]
    },
    {
     "data": {
      "text/plain": [
       "<function matplotlib.pyplot.show>"
      ]
     },
     "execution_count": 271,
     "metadata": {},
     "output_type": "execute_result"
    },
    {
     "data": {
      "image/png": "[encoded data removed]",
      "text/plain": [
       "<matplotlib.figure.Figure at 0x7faef539cd68>"
      ]
     },
     "metadata": {},
     "output_type": "display_data"
    }
   ],
   "source": [
    "a = np.array([\n",
    "        [1/9, 1/9, 1/9],\n",
    "        [1/9, 1/9, 1/9],\n",
    "        [1/9, 1/9, 1/9]\n",
    "    ])\n",
    "print(a)\n",
    "import scipy.signal\n",
    "y2 = scipy.signal.convolve2d(y, a)\n",
    "y2[y2 > 0.5] = 1\n",
    "y2[y2 < 0.5] = 0\n",
    "plt.imshow(y2, cmap = plt.cm.gray)\n",
    "plt.axis('off')\n",
    "plt.show"
   ]
  }
 ],
 "metadata": {
  "kernelspec": {
   "display_name": "Python 3",
   "language": "python",
   "name": "python3"
  },
  "language_info": {
   "codemirror_mode": {
    "name": "ipython",
    "version": 3
   },
   "file_extension": ".py",
   "mimetype": "text/x-python",
   "name": "python",
   "nbconvert_exporter": "python",
   "pygments_lexer": "ipython3",
   "version": "3.5.0"
  }
 },
 "nbformat": 4,
 "nbformat_minor": 0
}
